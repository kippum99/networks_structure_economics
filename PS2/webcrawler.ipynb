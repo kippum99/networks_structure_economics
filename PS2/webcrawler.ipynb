{
 "cells": [
  {
   "cell_type": "code",
   "execution_count": 1,
   "metadata": {},
   "outputs": [],
   "source": [
    "import matplotlib.pyplot as plt\n",
    "import networkx as nx\n",
    "import numpy as np\n",
    "from fetcher3 import fetch_links\n",
    "from networkx.algorithms.cluster import average_clustering, transitivity\n",
    "from networkx.algorithms.shortest_paths.generic import average_shortest_path_length as avg_diameter\n",
    "from networkx.algorithms.distance_measures import diameter as max_diameter"
   ]
  },
  {
   "cell_type": "code",
   "execution_count": 2,
   "metadata": {},
   "outputs": [
    {
     "name": "stdout",
     "output_type": "stream",
     "text": [
      "0 pages crawled\n",
      "100 pages crawled\n",
      "200 pages crawled\n",
      "300 pages crawled\n",
      "400 pages crawled\n",
      "500 pages crawled\n",
      "600 pages crawled\n",
      "700 pages crawled\n",
      "800 pages crawled\n",
      "900 pages crawled\n",
      "900 pages crawled\n",
      "900 pages crawled\n",
      "900 pages crawled\n",
      "900 pages crawled\n",
      "900 pages crawled\n",
      "900 pages crawled\n",
      "900 pages crawled\n",
      "900 pages crawled\n",
      "900 pages crawled\n",
      "900 pages crawled\n",
      "900 pages crawled\n",
      "900 pages crawled\n",
      "900 pages crawled\n",
      "900 pages crawled\n",
      "900 pages crawled\n",
      "900 pages crawled\n",
      "900 pages crawled\n",
      "900 pages crawled\n",
      "900 pages crawled\n",
      "900 pages crawled\n",
      "900 pages crawled\n",
      "900 pages crawled\n",
      "900 pages crawled\n",
      "900 pages crawled\n",
      "900 pages crawled\n",
      "900 pages crawled\n",
      "900 pages crawled\n",
      "900 pages crawled\n",
      "900 pages crawled\n",
      "900 pages crawled\n",
      "900 pages crawled\n",
      "900 pages crawled\n",
      "900 pages crawled\n",
      "900 pages crawled\n",
      "900 pages crawled\n",
      "900 pages crawled\n",
      "900 pages crawled\n",
      "900 pages crawled\n",
      "900 pages crawled\n",
      "900 pages crawled\n",
      "900 pages crawled\n",
      "900 pages crawled\n",
      "900 pages crawled\n",
      "900 pages crawled\n",
      "900 pages crawled\n",
      "1000 pages crawled\n",
      "1100 pages crawled\n",
      "1100 pages crawled\n",
      "1200 pages crawled\n",
      "1300 pages crawled\n",
      "1400 pages crawled\n",
      "1400 pages crawled\n",
      "1500 pages crawled\n",
      "1600 pages crawled\n",
      "1600 pages crawled\n",
      "1600 pages crawled\n",
      "1600 pages crawled\n",
      "1700 pages crawled\n",
      "1800 pages crawled\n",
      "1900 pages crawled\n",
      "2000 pages crawled\n",
      "2000 pages crawled\n",
      "2000 pages crawled\n",
      "2000 pages crawled\n",
      "2000 pages crawled\n",
      "2000 pages crawled\n",
      "2000 pages crawled\n",
      "2100 pages crawled\n",
      "2100 pages crawled\n",
      "2200 pages crawled\n",
      "2200 pages crawled\n",
      "2300 pages crawled\n",
      "2400 pages crawled\n",
      "2400 pages crawled\n",
      "2400 pages crawled\n",
      "2400 pages crawled\n",
      "2400 pages crawled\n",
      "2400 pages crawled\n",
      "2400 pages crawled\n",
      "2400 pages crawled\n",
      "2400 pages crawled\n",
      "2400 pages crawled\n",
      "2500 pages crawled\n",
      "2500 pages crawled\n",
      "2500 pages crawled\n",
      "2600 pages crawled\n",
      "2600 pages crawled\n",
      "2700 pages crawled\n",
      "2800 pages crawled\n",
      "2900 pages crawled\n",
      "3000 pages crawled\n",
      "3100 pages crawled\n",
      "3100 pages crawled\n",
      "3100 pages crawled\n",
      "3200 pages crawled\n",
      "3300 pages crawled\n",
      "3300 pages crawled\n",
      "3300 pages crawled\n",
      "3400 pages crawled\n",
      "3500 pages crawled\n",
      "3500 pages crawled\n",
      "3600 pages crawled\n",
      "3700 pages crawled\n",
      "3800 pages crawled\n",
      "3900 pages crawled\n",
      "4000 pages crawled\n",
      "4000 pages crawled\n",
      "4000 pages crawled\n",
      "4000 pages crawled\n",
      "4000 pages crawled\n",
      "4000 pages crawled\n",
      "4000 pages crawled\n",
      "4000 pages crawled\n",
      "4000 pages crawled\n",
      "4000 pages crawled\n",
      "4000 pages crawled\n",
      "4000 pages crawled\n",
      "4000 pages crawled\n",
      "4000 pages crawled\n",
      "4000 pages crawled\n",
      "4000 pages crawled\n",
      "4000 pages crawled\n",
      "4000 pages crawled\n"
     ]
    }
   ],
   "source": [
    "# Initialize graph\n",
    "G = nx.DiGraph()\n",
    "\n",
    "pageCount = 0\n",
    "\n",
    "# Dictionary mapping visited urls to whether it was valid or not\n",
    "visited = {}\n",
    "\n",
    "# Queue of pages to visit in tuple (prev, page) where prev is the page that \n",
    "# linked to the page\n",
    "queue = [(None, 'http://www.caltech.edu')]\n",
    "  \n",
    "\n",
    "# Webcrawl using bfs\n",
    "while queue:\n",
    "    if pageCount % 100 == 0:\n",
    "        print(pageCount, 'pages crawled')\n",
    "    \n",
    "    if pageCount > 4000:\n",
    "        break\n",
    "        \n",
    "    prev, url = queue.pop(0)\n",
    "    \n",
    "    if url in visited:\n",
    "        if visited[url]: # If valid url\n",
    "            G.add_edge(prev, url)\n",
    "        continue\n",
    "        \n",
    "    fetch = fetch_links(url)\n",
    "\n",
    "    # If url was valid, add an edge from previous page that link to it\n",
    "    if fetch:\n",
    "        visited[url] = True    # Mark as valid url\n",
    "        pageCount += 1\n",
    "        G.add_edge(prev, url)\n",
    "        links = [(url, link) for link in fetch if '.caltech.edu' in link]\n",
    "        queue += links\n",
    "    else:\n",
    "        visited[url] = False\n",
    "\n",
    "G.remove_node(None)"
   ]
  },
  {
   "cell_type": "code",
   "execution_count": 23,
   "metadata": {},
   "outputs": [
    {
     "data": {
      "image/png": "[encoded data removed]",
      "text/plain": [
       "<Figure size 432x288 with 1 Axes>"
      ]
     },
     "metadata": {
      "needs_background": "light"
     },
     "output_type": "display_data"
    },
    {
     "data": {
      "image/png": "[encoded data removed]",
      "text/plain": [
       "<Figure size 432x288 with 1 Axes>"
      ]
     },
     "metadata": {
      "needs_background": "light"
     },
     "output_type": "display_data"
    }
   ],
   "source": [
    "# Plot histograms\n",
    "\n",
    "outdegrees = np.array(list(dict(G.out_degree()).values()))\n",
    "plt.hist(outdegrees, bins=20, log=True)\n",
    "plt.title('Histogram of number of hyperlinks per page')\n",
    "plt.xlabel('Number of hyperlinks in a page')\n",
    "plt.ylabel('Log(frequency)')\n",
    "plt.show()\n",
    "\n",
    "indegrees = np.array(list(dict(G.in_degree()).values()))\n",
    "plt.hist(indegrees, bins=20, log=True)\n",
    "plt.title('Histogram of number of hyperlinks pointing to each page')\n",
    "plt.xlabel('Number of hyperlinks pointing to a page')\n",
    "plt.ylabel('Log(frequency)')\n",
    "plt.show()"
   ]
  },
  {
   "cell_type": "code",
   "execution_count": 10,
   "metadata": {},
   "outputs": [
    {
     "data": {
      "image/png": "[encoded data removed]",
      "text/plain": [
       "<Figure size 432x288 with 1 Axes>"
      ]
     },
     "metadata": {
      "needs_background": "light"
     },
     "output_type": "display_data"
    },
    {
     "data": {
      "image/png": "[encoded data removed]",
      "text/plain": [
       "<Figure size 432x288 with 1 Axes>"
      ]
     },
     "metadata": {
      "needs_background": "light"
     },
     "output_type": "display_data"
    }
   ],
   "source": [
    "# Plot ccdf\n",
    "\n",
    "plt.plot(np.sort(outdegrees), np.linspace(1, 0, len(outdegrees), endpoint=False))\n",
    "plt.title('CCDF of number of hyperlinks per page')\n",
    "plt.xlabel('Number of hyperlinks in a page')\n",
    "plt.ylabel('CCDF')\n",
    "plt.show()\n",
    "\n",
    "plt.plot(np.sort(indegrees), np.linspace(1, 0, len(indegrees), endpoint=False))\n",
    "plt.title('CCDF of number of hyperlinks pointing to each page')\n",
    "plt.xlabel('Number of hyperlinks pointing to a page')\n",
    "plt.ylabel('CCDF')\n",
    "plt.show()"
   ]
  },
  {
   "cell_type": "code",
   "execution_count": 12,
   "metadata": {},
   "outputs": [
    {
     "name": "stdout",
     "output_type": "stream",
     "text": [
      "Average clustering coefficient =  0.18680679733790628\n",
      "Overall clustering coefficient =  0.4496175442760291\n"
     ]
    }
   ],
   "source": [
    "# Compute clustering coefficients\n",
    "\n",
    "UG = nx.Graph(G)\n",
    "print('Average clustering coefficient = ', average_clustering(UG))\n",
    "print('Overall clustering coefficient = ', transitivity(UG))"
   ]
  },
  {
   "cell_type": "code",
   "execution_count": 13,
   "metadata": {},
   "outputs": [
    {
     "name": "stdout",
     "output_type": "stream",
     "text": [
      "Average diamater =  3.7551280929767556\n",
      "Maximal diamater =  6\n"
     ]
    }
   ],
   "source": [
    "# Compute average and maximal diameters\n",
    "print('Average diamater = ', avg_diameter(UG))\n",
    "print('Maximal diamater = ', max_diameter(UG))"
   ]
  },
  {
   "cell_type": "code",
   "execution_count": null,
   "metadata": {},
   "outputs": [],
   "source": []
  }
 ],
 "metadata": {
  "kernelspec": {
   "display_name": "Python 3",
   "language": "python",
   "name": "python3"
  },
  "language_info": {
   "codemirror_mode": {
    "name": "ipython",
    "version": 3
   },
   "file_extension": ".py",
   "mimetype": "text/x-python",
   "name": "python",
   "nbconvert_exporter": "python",
   "pygments_lexer": "ipython3",
   "version": "3.7.1"
  }
 },
 "nbformat": 4,
 "nbformat_minor": 2
}
